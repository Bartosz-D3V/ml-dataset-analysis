{
 "cells": [
  {
   "cell_type": "markdown",
   "metadata": {},
   "source": [
    "'*I cannot imagine any condition which would cause a ship to founder. I cannot conceive of any vital disaster happening to this vessel. Modern ship building has gone beyond that*'.\n",
    "\n",
    "~Captain Smith"
   ]
  },
  {
   "cell_type": "markdown",
   "metadata": {},
   "source": [
    "# Titanic - dataset classification"
   ]
  },
  {
   "cell_type": "markdown",
   "metadata": {},
   "source": [
    "## Introduction\n",
    "\n",
    "The sinking of the RMS Titanic was one of the biggest and well known maritime tragedy of all time. In 1912 around 1500 passengers died and only about 730 survived.\n",
    "\n",
    "Although the exact number of passengers, survivors, and victims remains unknown, the Kaggle dataset provides a significant amount of data to analyze.\n",
    "\n",
    "In the following research, the dataset will be analyzed to see who has the greatest chances of surviving and the machine learning model will be built to predict who could have eventually survived the tragedy.\n",
    "\n",
    "The dataset with description competition is available on the Kaggle website: https://www.kaggle.com/c/titanic"
   ]
  },
  {
   "cell_type": "markdown",
   "metadata": {},
   "source": [
    "## Kernel setup"
   ]
  },
  {
   "cell_type": "code",
   "execution_count": 1,
   "metadata": {
    "pycharm": {
     "is_executing": false
    }
   },
   "outputs": [],
   "source": [
    "%load_ext autoreload\n",
    "%autoreload 2\n",
    "\n",
    "from matplotlib import pyplot as plt\n",
    "import seaborn as sns\n",
    "import numpy as np\n",
    "import sys\n",
    "\n",
    "\n",
    "sns.set(rc={'figure.figsize': (11.7, 8.27)})\n",
    "sys.path.append('../')"
   ]
  },
  {
   "cell_type": "markdown",
   "metadata": {},
   "source": [
    "## Dataset\n",
    "\n",
    "Dataset provided by Kaggle contains 3 CSV files:\n",
    "\n",
    "* train.csv - labeled dataset used to train the ML model\n",
    "* test.csv - dataset without label used to create prediction file\n",
    "* gender_submission - example submission file"
   ]
  },
  {
   "cell_type": "code",
   "execution_count": 2,
   "metadata": {
    "pycharm": {
     "is_executing": false
    }
   },
   "outputs": [
    {
     "data": {
      "text/html": [
       "<div>\n",
       "<style scoped>\n",
       "    .dataframe tbody tr th:only-of-type {\n",
       "        vertical-align: middle;\n",
       "    }\n",
       "\n",
       "    .dataframe tbody tr th {\n",
       "        vertical-align: top;\n",
       "    }\n",
       "\n",
       "    .dataframe thead th {\n",
       "        text-align: right;\n",
       "    }\n",
       "</style>\n",
       "<table border=\"1\" class=\"dataframe\">\n",
       "  <thead>\n",
       "    <tr style=\"text-align: right;\">\n",
       "      <th></th>\n",
       "      <th>PassengerId</th>\n",
       "      <th>Survived</th>\n",
       "      <th>Pclass</th>\n",
       "      <th>Name</th>\n",
       "      <th>Sex</th>\n",
       "      <th>Age</th>\n",
       "      <th>SibSp</th>\n",
       "      <th>Parch</th>\n",
       "      <th>Ticket</th>\n",
       "      <th>Fare</th>\n",
       "      <th>Cabin</th>\n",
       "      <th>Embarked</th>\n",
       "    </tr>\n",
       "  </thead>\n",
       "  <tbody>\n",
       "    <tr>\n",
       "      <th>0</th>\n",
       "      <td>1</td>\n",
       "      <td>0</td>\n",
       "      <td>3</td>\n",
       "      <td>Braund, Mr. Owen Harris</td>\n",
       "      <td>male</td>\n",
       "      <td>22.0</td>\n",
       "      <td>1</td>\n",
       "      <td>0</td>\n",
       "      <td>A/5 21171</td>\n",
       "      <td>7.2500</td>\n",
       "      <td>NaN</td>\n",
       "      <td>S</td>\n",
       "    </tr>\n",
       "    <tr>\n",
       "      <th>1</th>\n",
       "      <td>2</td>\n",
       "      <td>1</td>\n",
       "      <td>1</td>\n",
       "      <td>Cumings, Mrs. John Bradley (Florence Briggs Th...</td>\n",
       "      <td>female</td>\n",
       "      <td>38.0</td>\n",
       "      <td>1</td>\n",
       "      <td>0</td>\n",
       "      <td>PC 17599</td>\n",
       "      <td>71.2833</td>\n",
       "      <td>C85</td>\n",
       "      <td>C</td>\n",
       "    </tr>\n",
       "    <tr>\n",
       "      <th>2</th>\n",
       "      <td>3</td>\n",
       "      <td>1</td>\n",
       "      <td>3</td>\n",
       "      <td>Heikkinen, Miss. Laina</td>\n",
       "      <td>female</td>\n",
       "      <td>26.0</td>\n",
       "      <td>0</td>\n",
       "      <td>0</td>\n",
       "      <td>STON/O2. 3101282</td>\n",
       "      <td>7.9250</td>\n",
       "      <td>NaN</td>\n",
       "      <td>S</td>\n",
       "    </tr>\n",
       "    <tr>\n",
       "      <th>3</th>\n",
       "      <td>4</td>\n",
       "      <td>1</td>\n",
       "      <td>1</td>\n",
       "      <td>Futrelle, Mrs. Jacques Heath (Lily May Peel)</td>\n",
       "      <td>female</td>\n",
       "      <td>35.0</td>\n",
       "      <td>1</td>\n",
       "      <td>0</td>\n",
       "      <td>113803</td>\n",
       "      <td>53.1000</td>\n",
       "      <td>C123</td>\n",
       "      <td>S</td>\n",
       "    </tr>\n",
       "    <tr>\n",
       "      <th>4</th>\n",
       "      <td>5</td>\n",
       "      <td>0</td>\n",
       "      <td>3</td>\n",
       "      <td>Allen, Mr. William Henry</td>\n",
       "      <td>male</td>\n",
       "      <td>35.0</td>\n",
       "      <td>0</td>\n",
       "      <td>0</td>\n",
       "      <td>373450</td>\n",
       "      <td>8.0500</td>\n",
       "      <td>NaN</td>\n",
       "      <td>S</td>\n",
       "    </tr>\n",
       "  </tbody>\n",
       "</table>\n",
       "</div>"
      ],
      "text/plain": [
       "   PassengerId  Survived  Pclass  \\\n",
       "0            1         0       3   \n",
       "1            2         1       1   \n",
       "2            3         1       3   \n",
       "3            4         1       1   \n",
       "4            5         0       3   \n",
       "\n",
       "                                                Name     Sex   Age  SibSp  \\\n",
       "0                            Braund, Mr. Owen Harris    male  22.0      1   \n",
       "1  Cumings, Mrs. John Bradley (Florence Briggs Th...  female  38.0      1   \n",
       "2                             Heikkinen, Miss. Laina  female  26.0      0   \n",
       "3       Futrelle, Mrs. Jacques Heath (Lily May Peel)  female  35.0      1   \n",
       "4                           Allen, Mr. William Henry    male  35.0      0   \n",
       "\n",
       "   Parch            Ticket     Fare Cabin Embarked  \n",
       "0      0         A/5 21171   7.2500   NaN        S  \n",
       "1      0          PC 17599  71.2833   C85        C  \n",
       "2      0  STON/O2. 3101282   7.9250   NaN        S  \n",
       "3      0            113803  53.1000  C123        S  \n",
       "4      0            373450   8.0500   NaN        S  "
      ]
     },
     "execution_count": 2,
     "metadata": {},
     "output_type": "execute_result"
    }
   ],
   "source": [
    "from titanic_classification.load_data import load_data\n",
    "\n",
    "train_set = load_data('./dataset/', 'train.csv', keep_na=True)\n",
    "train_set.head()"
   ]
  },
  {
   "cell_type": "markdown",
   "metadata": {},
   "source": [
    "The number of features is quite limited - there are 11 features including the label. Some of the columns can be easily ruled-out as will not provide any improvement in the dataset classification - for example ID.\n",
    "\n",
    "Most columns are self-explaining, but few columns might be a bit more mysterious:\n",
    "\n",
    "| Name        | Description                                                          |\n",
    "|-------------|----------------------------------------------------------------------|\n",
    "| PassangerId | ID of the passenger                                                  |\n",
    "| Survived    | Boolean value (1 = survived, 0 = died)                               |\n",
    "| Pclass      | Class of cabin (1 = first, 2 = second, 3 = third)                    |\n",
    "| Name        | Name of passenger                                                    |\n",
    "| Sex         | Sex                                                                  |\n",
    "| Age         | Age                                                                  |\n",
    "| SibSp       | Number of siblings/spouses aboard on Titanic                         |\n",
    "| Parch       | Number of parents/children aboard on Titanic                         |\n",
    "| Ticket      | Ticket number                                                        |\n",
    "| Cabin       | Cabin number                                                         |\n",
    "| Embarked    | Port of embarkation (C = Cherbourg, Q = Queenstown, S = Southampton) |"
   ]
  },
  {
   "cell_type": "code",
   "execution_count": 5,
   "metadata": {},
   "outputs": [
    {
     "data": {
      "text/html": [
       "<div>\n",
       "<style scoped>\n",
       "    .dataframe tbody tr th:only-of-type {\n",
       "        vertical-align: middle;\n",
       "    }\n",
       "\n",
       "    .dataframe tbody tr th {\n",
       "        vertical-align: top;\n",
       "    }\n",
       "\n",
       "    .dataframe thead th {\n",
       "        text-align: right;\n",
       "    }\n",
       "</style>\n",
       "<table border=\"1\" class=\"dataframe\">\n",
       "  <thead>\n",
       "    <tr style=\"text-align: right;\">\n",
       "      <th></th>\n",
       "      <th>PassengerId</th>\n",
       "      <th>Survived</th>\n",
       "      <th>Pclass</th>\n",
       "      <th>Age</th>\n",
       "      <th>SibSp</th>\n",
       "      <th>Parch</th>\n",
       "      <th>Fare</th>\n",
       "    </tr>\n",
       "  </thead>\n",
       "  <tbody>\n",
       "    <tr>\n",
       "      <th>count</th>\n",
       "      <td>891.000000</td>\n",
       "      <td>891.000000</td>\n",
       "      <td>891.000000</td>\n",
       "      <td>714.000000</td>\n",
       "      <td>891.000000</td>\n",
       "      <td>891.000000</td>\n",
       "      <td>891.000000</td>\n",
       "    </tr>\n",
       "    <tr>\n",
       "      <th>mean</th>\n",
       "      <td>446.000000</td>\n",
       "      <td>0.383838</td>\n",
       "      <td>2.308642</td>\n",
       "      <td>29.699118</td>\n",
       "      <td>0.523008</td>\n",
       "      <td>0.381594</td>\n",
       "      <td>32.204208</td>\n",
       "    </tr>\n",
       "    <tr>\n",
       "      <th>std</th>\n",
       "      <td>257.353842</td>\n",
       "      <td>0.486592</td>\n",
       "      <td>0.836071</td>\n",
       "      <td>14.526497</td>\n",
       "      <td>1.102743</td>\n",
       "      <td>0.806057</td>\n",
       "      <td>49.693429</td>\n",
       "    </tr>\n",
       "    <tr>\n",
       "      <th>min</th>\n",
       "      <td>1.000000</td>\n",
       "      <td>0.000000</td>\n",
       "      <td>1.000000</td>\n",
       "      <td>0.420000</td>\n",
       "      <td>0.000000</td>\n",
       "      <td>0.000000</td>\n",
       "      <td>0.000000</td>\n",
       "    </tr>\n",
       "    <tr>\n",
       "      <th>25%</th>\n",
       "      <td>223.500000</td>\n",
       "      <td>0.000000</td>\n",
       "      <td>2.000000</td>\n",
       "      <td>20.125000</td>\n",
       "      <td>0.000000</td>\n",
       "      <td>0.000000</td>\n",
       "      <td>7.910400</td>\n",
       "    </tr>\n",
       "    <tr>\n",
       "      <th>50%</th>\n",
       "      <td>446.000000</td>\n",
       "      <td>0.000000</td>\n",
       "      <td>3.000000</td>\n",
       "      <td>28.000000</td>\n",
       "      <td>0.000000</td>\n",
       "      <td>0.000000</td>\n",
       "      <td>14.454200</td>\n",
       "    </tr>\n",
       "    <tr>\n",
       "      <th>75%</th>\n",
       "      <td>668.500000</td>\n",
       "      <td>1.000000</td>\n",
       "      <td>3.000000</td>\n",
       "      <td>38.000000</td>\n",
       "      <td>1.000000</td>\n",
       "      <td>0.000000</td>\n",
       "      <td>31.000000</td>\n",
       "    </tr>\n",
       "    <tr>\n",
       "      <th>max</th>\n",
       "      <td>891.000000</td>\n",
       "      <td>1.000000</td>\n",
       "      <td>3.000000</td>\n",
       "      <td>80.000000</td>\n",
       "      <td>8.000000</td>\n",
       "      <td>6.000000</td>\n",
       "      <td>512.329200</td>\n",
       "    </tr>\n",
       "  </tbody>\n",
       "</table>\n",
       "</div>"
      ],
      "text/plain": [
       "       PassengerId    Survived      Pclass         Age       SibSp  \\\n",
       "count   891.000000  891.000000  891.000000  714.000000  891.000000   \n",
       "mean    446.000000    0.383838    2.308642   29.699118    0.523008   \n",
       "std     257.353842    0.486592    0.836071   14.526497    1.102743   \n",
       "min       1.000000    0.000000    1.000000    0.420000    0.000000   \n",
       "25%     223.500000    0.000000    2.000000   20.125000    0.000000   \n",
       "50%     446.000000    0.000000    3.000000   28.000000    0.000000   \n",
       "75%     668.500000    1.000000    3.000000   38.000000    1.000000   \n",
       "max     891.000000    1.000000    3.000000   80.000000    8.000000   \n",
       "\n",
       "            Parch        Fare  \n",
       "count  891.000000  891.000000  \n",
       "mean     0.381594   32.204208  \n",
       "std      0.806057   49.693429  \n",
       "min      0.000000    0.000000  \n",
       "25%      0.000000    7.910400  \n",
       "50%      0.000000   14.454200  \n",
       "75%      0.000000   31.000000  \n",
       "max      6.000000  512.329200  "
      ]
     },
     "execution_count": 5,
     "metadata": {},
     "output_type": "execute_result"
    }
   ],
   "source": [
    "train_set.describe()"
   ]
  },
  {
   "cell_type": "markdown",
   "metadata": {},
   "source": [
    "### Missing values\n",
    "\n",
    "As seen in the beginning, there are some rows without needed data. Those will have to be handled during dataset preparation."
   ]
  },
  {
   "cell_type": "code",
   "execution_count": 15,
   "metadata": {},
   "outputs": [
    {
     "data": {
      "text/plain": [
       "PassengerId      0\n",
       "Survived         0\n",
       "Pclass           0\n",
       "Name             0\n",
       "Sex              0\n",
       "Age            177\n",
       "SibSp            0\n",
       "Parch            0\n",
       "Ticket           0\n",
       "Fare             0\n",
       "Cabin          687\n",
       "Embarked         2\n",
       "dtype: int64"
      ]
     },
     "execution_count": 15,
     "metadata": {},
     "output_type": "execute_result"
    }
   ],
   "source": [
    "train_set.isnull().sum()"
   ]
  },
  {
   "cell_type": "code",
   "execution_count": 74,
   "metadata": {},
   "outputs": [
    {
     "data": {
      "text/plain": [
       "PassengerId          0\n",
       "Pclass               0\n",
       "Name                 0\n",
       "Sex                  0\n",
       "Age                  0\n",
       "SibSp                0\n",
       "Parch                0\n",
       "Ticket               0\n",
       "Fare                 1\n",
       "Cabin              327\n",
       "Embarked             0\n",
       "Relatives            0\n",
       "Traveling_alone      0\n",
       "Title                0\n",
       "dtype: int64"
      ]
     },
     "execution_count": 74,
     "metadata": {},
     "output_type": "execute_result"
    }
   ],
   "source": [
    "test_set.isnull().sum()"
   ]
  },
  {
   "cell_type": "markdown",
   "metadata": {},
   "source": [
    "## Insight"
   ]
  },
  {
   "cell_type": "code",
   "execution_count": 46,
   "metadata": {
    "pycharm": {
     "is_executing": false
    }
   },
   "outputs": [
    {
     "data": {
      "image/png": "[encoded data removed]",
      "text/plain": [
       "<Figure size 1080x360 with 1 Axes>"
      ]
     },
     "metadata": {},
     "output_type": "display_data"
    }
   ],
   "source": [
    "sns.catplot('Pclass', 'Survived', data=train_set, aspect=3, kind=\"point\")\n",
    "plt.title('Cabin class vs survival rate')\n",
    "plt.xlabel('Cabin class');"
   ]
  },
  {
   "cell_type": "code",
   "execution_count": 4,
   "metadata": {},
   "outputs": [
    {
     "data": {
      "image/png": "[encoded data removed]",
      "text/plain": [
       "<Figure size 1080x360 with 1 Axes>"
      ]
     },
     "metadata": {
      "needs_background": "light"
     },
     "output_type": "display_data"
    }
   ],
   "source": [
    "sns.catplot('Embarked', 'Survived', data=train_set, aspect=3, kind=\"point\")\n",
    "plt.title('Embarktion port vs survival rate')\n",
    "plt.xlabel('Embarktion port');"
   ]
  },
  {
   "cell_type": "markdown",
   "metadata": {},
   "source": [
    "The port where passengers embarked on the ship has a big impact on the survival rate - passengers that went aboard in Cherbourg had statistically higher chances of survival. This might be related to the fact that the latter passengers boarded the ship, the lower deck they were assigned to. This applies especially to the second and third class."
   ]
  },
  {
   "cell_type": "markdown",
   "metadata": {},
   "source": [
    "    Comparing the correlation between the cabin class and survival rate is probably the most interesting bit. It is not a surprise that the higher class passenger had, the higher the chances of survival were."
   ]
  },
  {
   "cell_type": "code",
   "execution_count": 49,
   "metadata": {},
   "outputs": [
    {
     "data": {
      "image/png": "[encoded data removed]",
      "text/plain": [
       "<Figure size 842.4x595.44 with 1 Axes>"
      ]
     },
     "metadata": {},
     "output_type": "display_data"
    }
   ],
   "source": [
    "sex_survived_barplot = sns.countplot(x = 'Sex', hue = 'Survived', palette = 'Set1', data = train_set)\n",
    "sex_survived_barplot.legend(labels=['Died', 'Survived']);"
   ]
  },
  {
   "cell_type": "markdown",
   "metadata": {},
   "source": [
    "The vast majority of victims were males that did not survive the tragedy. The highest amount of victims that survived the tragedy were females."
   ]
  },
  {
   "cell_type": "code",
   "execution_count": 50,
   "metadata": {
    "pycharm": {
     "is_executing": false
    }
   },
   "outputs": [
    {
     "data": {
      "image/png": "[encoded data removed]",
      "text/plain": [
       "<Figure size 842.4x595.44 with 2 Axes>"
      ]
     },
     "metadata": {},
     "output_type": "display_data"
    }
   ],
   "source": [
    "fig, ax = plt.subplots(1,2)\n",
    "sibsp_barplot = sns.countplot(x = 'SibSp', hue = 'Survived', palette = 'Set1', data = train_set, ax=ax[0])\n",
    "parch_barplot = sns.countplot(x = 'Parch', hue = 'Survived', palette = 'Set1', data = train_set, ax=ax[1])\n",
    "sibsp_barplot.legend_.remove()\n",
    "parch_barplot.legend_.remove()\n",
    "fig.legend(labels=['Died','Survived']);"
   ]
  },
  {
   "cell_type": "markdown",
   "metadata": {},
   "source": [
    "In the above chart, the number of siblings and parents of the passengers has been summed and compared to the number of people that survived the tragedy.\n",
    "\n",
    "The highest chances of surviving had people with one relative on board, the second-highest chances had people with 2 relatives on-board. People with no or 3 relatives had statistically the same chances of surviving.\n",
    "\n",
    "Finally, the lowest chances of surviving had passengers with 4 or more relatives on board."
   ]
  },
  {
   "cell_type": "code",
   "execution_count": 5,
   "metadata": {},
   "outputs": [
    {
     "data": {
      "image/png": "[encoded data removed]",
      "text/plain": [
       "<Figure size 842.4x595.44 with 1 Axes>"
      ]
     },
     "metadata": {},
     "output_type": "display_data"
    }
   ],
   "source": [
    "from titanic_classification.title_selector import TitleSelector\n",
    "\n",
    "\n",
    "title_selector = TitleSelector()\n",
    "train_set_titles = title_selector.transform(train_set)\n",
    "\n",
    "sns.countplot(x='Title', hue='Pclass', data=train_set_titles);"
   ]
  },
  {
   "cell_type": "markdown",
   "metadata": {},
   "source": [
    "The title is correlated with the class the passenger travelled in. Royalty and Officer people travelled exclusively with first and both - first and second class respectively.\n",
    "\n",
    "Interestingly, passengers with the title 'Mrs' were equally distributed among all three cabin classes.\n",
    "\n",
    "The vast majority of people travelled mostly in third class as one could expect."
   ]
  },
  {
   "cell_type": "code",
   "execution_count": 6,
   "metadata": {},
   "outputs": [
    {
     "data": {
      "image/png": "[encoded data removed]",
      "text/plain": [
       "<Figure size 842.4x595.44 with 1 Axes>"
      ]
     },
     "metadata": {},
     "output_type": "display_data"
    }
   ],
   "source": [
    "distplot_age = sns.distplot(train_set['Age'].dropna(), kde=False, bins=20)\n",
    "distplot_age.set(xlabel='Age', ylabel='Number of passangers');"
   ]
  },
  {
   "cell_type": "code",
   "execution_count": 7,
   "metadata": {},
   "outputs": [
    {
     "name": "stderr",
     "output_type": "stream",
     "text": [
      "C:\\Users\\User\\.virtualenvs\\ml-dataset-analysis-eKEAK5HG\\lib\\site-packages\\datawig\\imputer.py:822: FutureWarning: The 'contains' method is deprecated and will be removed in a future version. Use 'key in index' instead of 'index.contains(key)'\n",
      "  if data_frame.columns.contains(imputation_col):\n"
     ]
    },
    {
     "data": {
      "image/png": "[encoded data removed]",
      "text/plain": [
       "<Figure size 842.4x595.44 with 1 Axes>"
      ]
     },
     "metadata": {},
     "output_type": "display_data"
    }
   ],
   "source": [
    "from titanic_classification.age_imputer import AgeImputer\n",
    "\n",
    "\n",
    "age_imputer = AgeImputer()\n",
    "train_set_ages = age_imputer.transform(train_set_titles)\n",
    "distplot_age_filled = sns.distplot(train_set_ages['Age'], kde=False, bins=20)\n",
    "distplot_age_filled.set(xlabel='Age', ylabel='Number of passangers');"
   ]
  },
  {
   "cell_type": "markdown",
   "metadata": {},
   "source": [
    "Ages with computed data still look like a proper Gaussian distribution, although there are small anomalies. For instance, a big number of young children (younger than 5 years) and a significant number of people aged 25 - 30."
   ]
  },
  {
   "cell_type": "markdown",
   "metadata": {},
   "source": [
    "## Preparing data"
   ]
  },
  {
   "cell_type": "markdown",
   "metadata": {},
   "source": [
    "### Introduction\n",
    "\n",
    "\n",
    "A significant amount of columns contain categorical/enum values - i.e. code of type string that has a specific meaning. Whereas it might be helpful for human, it makes the computation unnecessarily expensive. In the following section, the dataset will be prepared for later analysis."
   ]
  },
  {
   "cell_type": "markdown",
   "metadata": {},
   "source": [
    "### Transformation pipeline\n",
    "\n",
    "Specifically:\n",
    "\n",
    "1. The id should be removed as not relevant for training purposes\n",
    "\n",
    "2. N/A/Empty values should be populated to avoid mathematical operations on empty cells/null data\n",
    "\n",
    "3. Discrete columns should be transformed\n",
    "\n",
    "4. The title should be extracted from the name and transformed into discrete value\n",
    "\n",
    "5. Number of relatives should be summed to construct one column instead of two\n",
    "\n",
    "6. New boolean feature to construct - Birkenhead Drill - i.e. 'Ladies and children first'\n",
    "\n",
    "7. Add new feature - the sum of SibSp and Parch\n",
    "\n",
    "8. Age values should be converted to bins\n",
    "\n",
    "9. Add new feature - indicator whether passenger travelled alone or not\n",
    "\n",
    "10. Add new feature - Deck\n"
   ]
  },
  {
   "cell_type": "code",
   "execution_count": 183,
   "metadata": {
    "pycharm": {
     "is_executing": false
    }
   },
   "outputs": [],
   "source": [
    "from sklearn.pipeline import Pipeline\n",
    "from sklearn.compose import ColumnTransformer\n",
    "from sklearn.preprocessing import OneHotEncoder\n",
    "from sklearn.preprocessing import OrdinalEncoder\n",
    "\n",
    "from titanic_classification.title_selector import TitleSelector\n",
    "from titanic_classification.relatives_column_creator import RelativesColumnCreator\n",
    "from titanic_classification.dataframe_simple_imputer import DataFrameSimpleImputer\n",
    "from titanic_classification.label_remover import LabelRemover\n",
    "from titanic_classification.birkenhead_drill import BirkenheadDrill\n",
    "from titanic_classification.age_imputer import AgeImputer\n",
    "from titanic_classification.deck_imputer import DeckImputer\n",
    "from titanic_classification.age_binizer import AgeBinizer\n",
    "from titanic_classification.traveling_alone_creator import TravelingAloneCreator\n",
    "\n",
    "\n",
    "discrete_columns = ['Sex', 'Embarked', 'Title']\n",
    "num_columns = ['PassengerId', 'Age', 'SibSp', 'Parch', 'Fare', 'Pclass', 'BirkenheadDrill']\n",
    "txt_columns = ['Name', 'Ticket', 'Cabin']\n",
    "\n",
    "txt_pipeline = Pipeline([\n",
    "    ('id_rmv', LabelRemover(txt_columns))\n",
    "])\n",
    "\n",
    "num_pipeline = Pipeline([\n",
    "    ('id_rmv', LabelRemover(['PassengerId'])),\n",
    "    ('imputer', DataFrameSimpleImputer({'strategy':\"median\"}))\n",
    "])\n",
    "\n",
    "cat_pipeline = Pipeline([\n",
    "    ('imputer', DataFrameSimpleImputer({'strategy':\"most_frequent\"})),\n",
    "    ('vectorizer', ColumnTransformer([\n",
    "        ('ordinal', OrdinalEncoder(), ['Embarked', 'Title']),\n",
    "        ('1hot', OneHotEncoder(), ['Sex'])\n",
    "    ]))\n",
    "])\n",
    "\n",
    "col_pipeline = ColumnTransformer(\n",
    "    transformers = [\n",
    "        ('txt', txt_pipeline, txt_columns),\n",
    "        ('num', num_pipeline, num_columns),\n",
    "        ('cat', cat_pipeline, discrete_columns)\n",
    "    ])\n",
    "\n",
    "prep_pipeline = Pipeline(steps=[\n",
    "    ('relatives_creator', RelativesColumnCreator()),\n",
    "    ('travel_alone_selector', TravelingAloneCreator()),\n",
    "    ('title_selector', TitleSelector()),\n",
    "    ('age_imputer', AgeImputer()),\n",
    "    ('age_bin', AgeBinizer()),\n",
    "    ('birkenhead_drill', BirkenheadDrill()),\n",
    "    ('deck_imputer', DeckImputer()),\n",
    "    ('preprocessor', col_pipeline)\n",
    "])"
   ]
  },
  {
   "cell_type": "markdown",
   "metadata": {},
   "source": [
    "### Transforming data"
   ]
  },
  {
   "cell_type": "code",
   "execution_count": 184,
   "metadata": {
    "pycharm": {
     "is_executing": false
    }
   },
   "outputs": [
    {
     "name": "stderr",
     "output_type": "stream",
     "text": [
      "C:\\Users\\User\\.virtualenvs\\ml-dataset-analysis-eKEAK5HG\\lib\\site-packages\\datawig\\imputer.py:822: FutureWarning: The 'contains' method is deprecated and will be removed in a future version. Use 'key in index' instead of 'index.contains(key)'\n",
      "  if data_frame.columns.contains(imputation_col):\n",
      "C:\\Users\\User\\.virtualenvs\\ml-dataset-analysis-eKEAK5HG\\lib\\site-packages\\sklearn\\metrics\\_classification.py:1268: UndefinedMetricWarning: Precision is ill-defined and being set to 0.0 in labels with no predicted samples. Use `zero_division` parameter to control this behavior.\n",
      "  _warn_prf(average, modifier, msg_start, len(result))\n"
     ]
    },
    {
     "name": "stdout",
     "output_type": "stream",
     "text": [
      "Size of prepared train set: (891, 10)\n"
     ]
    },
    {
     "name": "stderr",
     "output_type": "stream",
     "text": [
      "C:\\Users\\User\\.virtualenvs\\ml-dataset-analysis-eKEAK5HG\\lib\\site-packages\\datawig\\calibration.py:92: RuntimeWarning: divide by zero encountered in log\n",
      "  return np.log(probas)\n",
      "C:\\Users\\User\\.virtualenvs\\ml-dataset-analysis-eKEAK5HG\\lib\\site-packages\\datawig\\imputer.py:822: FutureWarning: The 'contains' method is deprecated and will be removed in a future version. Use 'key in index' instead of 'index.contains(key)'\n",
      "  if data_frame.columns.contains(imputation_col):\n",
      "C:\\Users\\User\\.virtualenvs\\ml-dataset-analysis-eKEAK5HG\\lib\\site-packages\\datawig\\imputer.py:829: FutureWarning: The 'contains' method is deprecated and will be removed in a future version. Use 'key in index' instead of 'index.contains(key)'\n",
      "  if data_frame.columns.contains(imputation_proba_col):\n"
     ]
    }
   ],
   "source": [
    "train_set_unlabelled = train_set.drop(columns='Survived')\n",
    "\n",
    "prep_train_set = prep_pipeline.fit_transform(train_set_unlabelled)\n",
    "print(f'Size of prepared train set: {np.shape(prep_train_set)}')"
   ]
  },
  {
   "cell_type": "markdown",
   "metadata": {},
   "source": [
    "## Machine learning models"
   ]
  },
  {
   "cell_type": "markdown",
   "metadata": {},
   "source": [
    "### Introduction\n",
    "\n",
    "After careful data preparation, a number of ML models can be used to train using the prepared training data set.\n",
    "\n",
    "Accordingly, to lunch free theorem there is no one perfect model that will serve the purpose perfectly. Rather one needs to check multiple solutions and select the most promising one."
   ]
  },
  {
   "cell_type": "markdown",
   "metadata": {},
   "source": [
    "### Preparation"
   ]
  },
  {
   "cell_type": "code",
   "execution_count": 190,
   "metadata": {
    "pycharm": {
     "is_executing": false
    }
   },
   "outputs": [
    {
     "name": "stdout",
     "output_type": "stream",
     "text": [
      "\n",
      "Size of train set: (712, 10)\n",
      "Size of test set: (179, 10)\n",
      "Size of train label vector: (712,)\n",
      "Size of test label vector: (179,)\n",
      "\n"
     ]
    }
   ],
   "source": [
    "from sklearn.model_selection import train_test_split\n",
    "\n",
    "\n",
    "train_label = train_set['Survived']\n",
    "X_train, X_test, Y_train, Y_test = train_test_split(prep_train_set, train_label, test_size=0.2, random_state=42)\n",
    "print(f'''\n",
    "Size of train set: {np.shape(X_train)}\n",
    "Size of test set: {np.shape(X_test)}\n",
    "Size of train label vector: {np.shape(Y_train)}\n",
    "Size of test label vector: {np.shape(Y_test)}\n",
    "''')"
   ]
  },
  {
   "cell_type": "markdown",
   "metadata": {},
   "source": [
    "### Models comparison"
   ]
  },
  {
   "cell_type": "code",
   "execution_count": 201,
   "metadata": {
    "pycharm": {
     "is_executing": false
    }
   },
   "outputs": [
    {
     "name": "stdout",
     "output_type": "stream",
     "text": [
      "                    Classifier  Accurracy   CV Mean     Score\n",
      "7   GradientBoostingClassifier   0.832402  0.834236  0.904494\n",
      "4       RandomForestClassifier   0.826816  0.814616  0.952247\n",
      "5         ExtraTreesClassifier   0.821229  0.800581  0.952247\n",
      "6           AdaBoostClassifier   0.804469  0.830040  0.853933\n",
      "2              RidgeClassifier   0.787709  0.789294  0.792135\n",
      "3            RidgeClassifierCV   0.776536  0.783699  0.792135\n",
      "0                SGDClassifier   0.759777  0.725933  0.717697\n",
      "1  PassiveAggressiveClassifier   0.670391  0.734482  0.688202\n"
     ]
    },
    {
     "data": {
      "image/png": "[encoded data removed]",
      "text/plain": [
       "<Figure size 720x504 with 1 Axes>"
      ]
     },
     "metadata": {},
     "output_type": "display_data"
    }
   ],
   "source": [
    "from sklearn.linear_model import SGDClassifier\n",
    "from sklearn.linear_model import PassiveAggressiveClassifier\n",
    "from sklearn.linear_model import RidgeClassifier\n",
    "from sklearn.linear_model import RidgeClassifierCV\n",
    "from sklearn.ensemble import ExtraTreesClassifier\n",
    "from sklearn.ensemble import RandomForestClassifier\n",
    "from sklearn.ensemble import AdaBoostClassifier\n",
    "from sklearn.ensemble import GradientBoostingClassifier\n",
    "from sklearn.metrics import accuracy_score\n",
    "from sklearn.model_selection import cross_val_score\n",
    "from pandas import DataFrame\n",
    "\n",
    "classifiers = {\n",
    "    'SGDClassifier': SGDClassifier(),\n",
    "    'PassiveAggressiveClassifier': PassiveAggressiveClassifier(),\n",
    "    \"RidgeClassifier\": RidgeClassifier(normalize=True),\n",
    "    'RidgeClassifierCV': RidgeClassifierCV(),\n",
    "    'RandomForestClassifier': RandomForestClassifier(),\n",
    "    'ExtraTreesClassifier': ExtraTreesClassifier(),\n",
    "    'AdaBoostClassifier': AdaBoostClassifier(),\n",
    "    'GradientBoostingClassifier': GradientBoostingClassifier()\n",
    "}\n",
    "\n",
    "columns = ['Classifier', 'Accurracy', 'CV Mean', 'Score']\n",
    "df_scores = DataFrame(columns=columns)\n",
    "\n",
    "for name, clf in classifiers.items():\n",
    "    clf.fit(X_train, Y_train)\n",
    "    Y_predicted = clf.predict(X_test)\n",
    "    acc_score = accuracy_score(Y_test, Y_predicted)\n",
    "    cv_mean = np.mean(cross_val_score(clf, X_train, Y_train, cv=5))\n",
    "    df_row = DataFrame([[name, acc_score, cv_mean, clf.score(X_train, Y_train)]],columns=columns)\n",
    "    df_scores = df_scores.append(df_row, ignore_index=True)\n",
    "\n",
    "print(df_scores.sort_values('Accurracy', ascending=False))\n",
    "df_scores.plot.bar(x='Classifier', figsize=(10,7)).legend(bbox_to_anchor=(1, 1));"
   ]
  },
  {
   "cell_type": "markdown",
   "metadata": {},
   "source": [
    "The highest overall score was achieved by Random Forest Classifier with 0.95, the accuracy of 0.83 and CV mean equal to 0.82.\n",
    "\n",
    "The next, most promising classifiers are Gradient Boosting Classifier and AdaBoostClassifier.\n",
    "\n",
    "All three models will be combined using VotingClassifier to provide more reliable predictions."
   ]
  },
  {
   "cell_type": "markdown",
   "metadata": {},
   "source": [
    "### Misclassification analysis"
   ]
  },
  {
   "cell_type": "code",
   "execution_count": 202,
   "metadata": {},
   "outputs": [
    {
     "name": "stderr",
     "output_type": "stream",
     "text": [
      "C:\\Users\\User\\.virtualenvs\\ml-dataset-analysis-eKEAK5HG\\lib\\site-packages\\ipykernel_launcher.py:4: SettingWithCopyWarning: \n",
      "A value is trying to be set on a copy of a slice from a DataFrame.\n",
      "Try using .loc[row_indexer,col_indexer] = value instead\n",
      "\n",
      "See the caveats in the documentation: http://pandas.pydata.org/pandas-docs/stable/user_guide/indexing.html#returning-a-view-versus-a-copy\n",
      "  after removing the cwd from sys.path.\n"
     ]
    },
    {
     "data": {
      "text/html": [
       "<div>\n",
       "<style scoped>\n",
       "    .dataframe tbody tr th:only-of-type {\n",
       "        vertical-align: middle;\n",
       "    }\n",
       "\n",
       "    .dataframe tbody tr th {\n",
       "        vertical-align: top;\n",
       "    }\n",
       "\n",
       "    .dataframe thead th {\n",
       "        text-align: right;\n",
       "    }\n",
       "</style>\n",
       "<table border=\"1\" class=\"dataframe\">\n",
       "  <thead>\n",
       "    <tr style=\"text-align: right;\">\n",
       "      <th></th>\n",
       "      <th>PassengerId</th>\n",
       "      <th>Survived</th>\n",
       "      <th>Pclass</th>\n",
       "      <th>Name</th>\n",
       "      <th>Sex</th>\n",
       "      <th>Age</th>\n",
       "      <th>SibSp</th>\n",
       "      <th>Parch</th>\n",
       "      <th>Ticket</th>\n",
       "      <th>Fare</th>\n",
       "      <th>Cabin</th>\n",
       "      <th>Embarked</th>\n",
       "      <th>Predicted</th>\n",
       "    </tr>\n",
       "  </thead>\n",
       "  <tbody>\n",
       "    <tr>\n",
       "      <th>39</th>\n",
       "      <td>40</td>\n",
       "      <td>1</td>\n",
       "      <td>3</td>\n",
       "      <td>Nicola-Yarred, Miss. Jamila</td>\n",
       "      <td>female</td>\n",
       "      <td>14.0</td>\n",
       "      <td>1</td>\n",
       "      <td>0</td>\n",
       "      <td>2651</td>\n",
       "      <td>11.2417</td>\n",
       "      <td>NaN</td>\n",
       "      <td>C</td>\n",
       "      <td>0</td>\n",
       "    </tr>\n",
       "    <tr>\n",
       "      <th>621</th>\n",
       "      <td>622</td>\n",
       "      <td>1</td>\n",
       "      <td>1</td>\n",
       "      <td>Kimball, Mr. Edwin Nelson Jr</td>\n",
       "      <td>male</td>\n",
       "      <td>42.0</td>\n",
       "      <td>1</td>\n",
       "      <td>0</td>\n",
       "      <td>11753</td>\n",
       "      <td>52.5542</td>\n",
       "      <td>D19</td>\n",
       "      <td>S</td>\n",
       "      <td>0</td>\n",
       "    </tr>\n",
       "    <tr>\n",
       "      <th>192</th>\n",
       "      <td>193</td>\n",
       "      <td>1</td>\n",
       "      <td>3</td>\n",
       "      <td>Andersen-Jensen, Miss. Carla Christine Nielsine</td>\n",
       "      <td>female</td>\n",
       "      <td>19.0</td>\n",
       "      <td>1</td>\n",
       "      <td>0</td>\n",
       "      <td>350046</td>\n",
       "      <td>7.8542</td>\n",
       "      <td>NaN</td>\n",
       "      <td>S</td>\n",
       "      <td>0</td>\n",
       "    </tr>\n",
       "    <tr>\n",
       "      <th>673</th>\n",
       "      <td>674</td>\n",
       "      <td>1</td>\n",
       "      <td>2</td>\n",
       "      <td>Wilhelms, Mr. Charles</td>\n",
       "      <td>male</td>\n",
       "      <td>31.0</td>\n",
       "      <td>0</td>\n",
       "      <td>0</td>\n",
       "      <td>244270</td>\n",
       "      <td>13.0000</td>\n",
       "      <td>NaN</td>\n",
       "      <td>S</td>\n",
       "      <td>0</td>\n",
       "    </tr>\n",
       "    <tr>\n",
       "      <th>396</th>\n",
       "      <td>397</td>\n",
       "      <td>0</td>\n",
       "      <td>3</td>\n",
       "      <td>Olsson, Miss. Elina</td>\n",
       "      <td>female</td>\n",
       "      <td>31.0</td>\n",
       "      <td>0</td>\n",
       "      <td>0</td>\n",
       "      <td>350407</td>\n",
       "      <td>7.8542</td>\n",
       "      <td>NaN</td>\n",
       "      <td>S</td>\n",
       "      <td>1</td>\n",
       "    </tr>\n",
       "  </tbody>\n",
       "</table>\n",
       "</div>"
      ],
      "text/plain": [
       "     PassengerId  Survived  Pclass  \\\n",
       "39            40         1       3   \n",
       "621          622         1       1   \n",
       "192          193         1       3   \n",
       "673          674         1       2   \n",
       "396          397         0       3   \n",
       "\n",
       "                                                Name     Sex   Age  SibSp  \\\n",
       "39                       Nicola-Yarred, Miss. Jamila  female  14.0      1   \n",
       "621                     Kimball, Mr. Edwin Nelson Jr    male  42.0      1   \n",
       "192  Andersen-Jensen, Miss. Carla Christine Nielsine  female  19.0      1   \n",
       "673                            Wilhelms, Mr. Charles    male  31.0      0   \n",
       "396                              Olsson, Miss. Elina  female  31.0      0   \n",
       "\n",
       "     Parch  Ticket     Fare Cabin Embarked  Predicted  \n",
       "39       0    2651  11.2417   NaN        C          0  \n",
       "621      0   11753  52.5542   D19        S          0  \n",
       "192      0  350046   7.8542   NaN        S          0  \n",
       "673      0  244270  13.0000   NaN        S          0  \n",
       "396      0  350407   7.8542   NaN        S          1  "
      ]
     },
     "execution_count": 202,
     "metadata": {},
     "output_type": "execute_result"
    }
   ],
   "source": [
    "Y_predicted = classifiers['RandomForestClassifier'].predict(X_test)\n",
    "misclassified_indices = Y_test[Y_test != Y_predicted].index\n",
    "wrongly_predicted = train_set.iloc[[*misclassified_indices]]\n",
    "wrongly_predicted['Predicted'] = 1 - wrongly_predicted['Survived']\n",
    "wrongly_predicted.head(5)"
   ]
  },
  {
   "cell_type": "markdown",
   "metadata": {},
   "source": [
    "The model makes some mistakes in its predictions, but there cases where the misclassification outcome is understandable."
   ]
  },
  {
   "cell_type": "markdown",
   "metadata": {},
   "source": [
    "## Learning Curve"
   ]
  },
  {
   "cell_type": "markdown",
   "metadata": {},
   "source": [
    "### Random Forest"
   ]
  },
  {
   "cell_type": "code",
   "execution_count": 204,
   "metadata": {},
   "outputs": [
    {
     "name": "stderr",
     "output_type": "stream",
     "text": [
      "C:\\Users\\User\\.virtualenvs\\ml-dataset-analysis-eKEAK5HG\\lib\\site-packages\\sklearn\\base.py:197: FutureWarning: From version 0.24, get_params will raise an AttributeError if a parameter cannot be retrieved as an instance attribute. Previously it would return None.\n",
      "  FutureWarning)\n"
     ]
    },
    {
     "data": {
      "image/png": "[encoded data removed]",
      "text/plain": [
       "<Figure size 576x396 with 1 Axes>"
      ]
     },
     "metadata": {},
     "output_type": "display_data"
    }
   ],
   "source": [
    "from sklearn.model_selection import StratifiedKFold\n",
    "from yellowbrick.model_selection import LearningCurve\n",
    "\n",
    "\n",
    "rf_clf = RandomForestClassifier()\n",
    "sizes = np.linspace(0.3, 1.0, 10)\n",
    "cv = StratifiedKFold(n_splits=8)\n",
    "\n",
    "visualizer = LearningCurve(rf_clf, cv=cv, scoring='accuracy', train_sizes=sizes)\n",
    "visualizer.fit(X_train, Y_train)\n",
    "visualizer.show();"
   ]
  },
  {
   "cell_type": "markdown",
   "metadata": {},
   "source": [
    "The learning curve for Random Forest Classifier might look like it is not performing better over time, but in fact, it does not make too much sense doing learning curve check for RFC. The training data goes through the same paths all the time, so although the plot might suggest underfitting the classifier performs correctly. "
   ]
  },
  {
   "cell_type": "markdown",
   "metadata": {},
   "source": [
    "### Gradient Boosting"
   ]
  },
  {
   "cell_type": "code",
   "execution_count": 205,
   "metadata": {},
   "outputs": [
    {
     "name": "stderr",
     "output_type": "stream",
     "text": [
      "C:\\Users\\User\\.virtualenvs\\ml-dataset-analysis-eKEAK5HG\\lib\\site-packages\\sklearn\\base.py:197: FutureWarning: From version 0.24, get_params will raise an AttributeError if a parameter cannot be retrieved as an instance attribute. Previously it would return None.\n",
      "  FutureWarning)\n"
     ]
    },
    {
     "data": {
      "image/png": "[encoded data removed]",
      "text/plain": [
       "<Figure size 576x396 with 1 Axes>"
      ]
     },
     "metadata": {},
     "output_type": "display_data"
    }
   ],
   "source": [
    "from sklearn.model_selection import StratifiedKFold\n",
    "from yellowbrick.model_selection import LearningCurve\n",
    "\n",
    "\n",
    "gb_clf = GradientBoostingClassifier()\n",
    "sizes = np.linspace(0.3, 1.0, 10)\n",
    "cv = StratifiedKFold(n_splits=8)\n",
    "\n",
    "visualizer = LearningCurve(gb_clf, cv=cv, scoring='accuracy', train_sizes=sizes)\n",
    "visualizer.fit(X_train, Y_train)\n",
    "visualizer.show();"
   ]
  },
  {
   "cell_type": "markdown",
   "metadata": {},
   "source": [
    "Learning curve graph for Gradient Boosting Classifier shows the overall improvement over time. The algorithm converges until about 600 dataset example and then remains steady. Adding more training examples would not improve the overall performance."
   ]
  },
  {
   "cell_type": "markdown",
   "metadata": {},
   "source": [
    "### ADA Boost Classifier"
   ]
  },
  {
   "cell_type": "code",
   "execution_count": 206,
   "metadata": {},
   "outputs": [
    {
     "name": "stderr",
     "output_type": "stream",
     "text": [
      "C:\\Users\\User\\.virtualenvs\\ml-dataset-analysis-eKEAK5HG\\lib\\site-packages\\sklearn\\base.py:197: FutureWarning: From version 0.24, get_params will raise an AttributeError if a parameter cannot be retrieved as an instance attribute. Previously it would return None.\n",
      "  FutureWarning)\n"
     ]
    },
    {
     "data": {
      "image/png": "[encoded data removed]",
      "text/plain": [
       "<Figure size 576x396 with 1 Axes>"
      ]
     },
     "metadata": {},
     "output_type": "display_data"
    }
   ],
   "source": [
    "from sklearn.model_selection import StratifiedKFold\n",
    "from yellowbrick.model_selection import LearningCurve\n",
    "\n",
    "\n",
    "ab_clf = AdaBoostClassifier()\n",
    "sizes = np.linspace(0.3, 1.0, 10)\n",
    "cv = StratifiedKFold(n_splits=8)\n",
    "\n",
    "visualizer = LearningCurve(ab_clf, cv=cv, scoring='accuracy', train_sizes=sizes)\n",
    "visualizer.fit(X_train, Y_train)\n",
    "visualizer.show();"
   ]
  },
  {
   "cell_type": "markdown",
   "metadata": {},
   "source": [
    "Learning curve graph for ADA Boost Classifier looks even better than the previous one - the classifier is learning up to ~520 training set and then converges. The plot suggests that similarly to previous classifiers adding more training examples would not help."
   ]
  },
  {
   "cell_type": "markdown",
   "metadata": {},
   "source": [
    "### Random Forest Classifier tuning"
   ]
  },
  {
   "cell_type": "code",
   "execution_count": 185,
   "metadata": {},
   "outputs": [
    {
     "data": {
      "text/plain": [
       "{'ccp_alpha': 0.002,\n",
       " 'class_weight': None,\n",
       " 'criterion': 'gini',\n",
       " 'max_features': 7,\n",
       " 'n_estimators': 600}"
      ]
     },
     "execution_count": 185,
     "metadata": {},
     "output_type": "execute_result"
    }
   ],
   "source": [
    "from sklearn.ensemble import RandomForestClassifier\n",
    "from sklearn.model_selection import GridSearchCV\n",
    "\n",
    "\n",
    "rf_clf = RandomForestClassifier()\n",
    "param_grid = {\n",
    "    'criterion': ['gini'],\n",
    "    'max_features': range(6, 11),\n",
    "    'n_estimators': [420, 500, 600, 700, 800],\n",
    "    'class_weight': ['balanced', 'balanced_subsample', None],\n",
    "    'ccp_alpha': [.002, .003, .005]\n",
    "}\n",
    "grid_search = GridSearchCV(estimator=rf_clf, param_grid=param_grid, cv=5, n_jobs=-1, scoring='accuracy')\n",
    "grid_search.fit(prep_train_set, train_label)\n",
    "\n",
    "best_rf_clf = grid_search.best_estimator_\n",
    "best_rf_params = grid_search.best_params_\n",
    "best_rf_params"
   ]
  },
  {
   "cell_type": "markdown",
   "metadata": {},
   "source": [
    "### ADA Boost classifier tuning"
   ]
  },
  {
   "cell_type": "code",
   "execution_count": 186,
   "metadata": {
    "pycharm": {
     "is_executing": false
    }
   },
   "outputs": [
    {
     "data": {
      "text/plain": [
       "{'algorithm': 'SAMME.R', 'learning_rate': 0.008, 'n_estimators': 1100}"
      ]
     },
     "execution_count": 186,
     "metadata": {},
     "output_type": "execute_result"
    }
   ],
   "source": [
    "from sklearn.ensemble import AdaBoostClassifier\n",
    "from sklearn.model_selection import GridSearchCV\n",
    "\n",
    "\n",
    "ada_clf = AdaBoostClassifier()\n",
    "param_grid = [\n",
    "    {\n",
    "        'n_estimators': [400, 420, 500, 600, 1000, 1100, 1200],\n",
    "        'learning_rate': [.003, .005, .006, .008],\n",
    "        'algorithm': ['SAMME', 'SAMME.R']\n",
    "    }\n",
    "]\n",
    "grid_search = GridSearchCV(estimator=ada_clf, param_grid=param_grid, cv=5, scoring='accuracy', n_jobs=-1)\n",
    "grid_search.fit(prep_train_set, train_label)\n",
    "\n",
    "best_ada_clf = grid_search.best_estimator_\n",
    "best_ada_params = grid_search.best_params_\n",
    "best_ada_params"
   ]
  },
  {
   "cell_type": "markdown",
   "metadata": {},
   "source": [
    "### Gradient Boosting Classifier tuning"
   ]
  },
  {
   "cell_type": "code",
   "execution_count": 187,
   "metadata": {},
   "outputs": [
    {
     "name": "stdout",
     "output_type": "stream",
     "text": [
      "      Iter       Train Loss   Remaining Time \n",
      "         1           0.8830            1.55s\n",
      "         2           0.8149            0.77s\n",
      "         3           0.7632            0.51s\n",
      "         4           0.7235            0.37s\n",
      "         5           0.6930            0.30s\n",
      "         6           0.6699            0.24s\n",
      "         7           0.6506            0.36s\n",
      "         8           0.6355            0.36s\n",
      "         9           0.6220            0.32s\n",
      "        10           0.6104            0.32s\n",
      "        20           0.5418            0.20s\n",
      "        30           0.5037            0.15s\n",
      "        40           0.4656            0.12s\n",
      "        50           0.4419            0.09s\n",
      "        60           0.4167            0.07s\n",
      "        70           0.4005            0.05s\n",
      "        80           0.3784            0.04s\n",
      "        90           0.3647            0.02s\n",
      "       100           0.3484            0.00s\n"
     ]
    },
    {
     "data": {
      "text/plain": [
       "{'learning_rate': 0.2,\n",
       " 'loss': 'exponential',\n",
       " 'max_depth': 4,\n",
       " 'min_samples_leaf': 5,\n",
       " 'min_samples_split': 2}"
      ]
     },
     "execution_count": 187,
     "metadata": {},
     "output_type": "execute_result"
    }
   ],
   "source": [
    "from sklearn.ensemble import GradientBoostingClassifier\n",
    "from sklearn.model_selection import GridSearchCV\n",
    "\n",
    "\n",
    "gb_clf = GradientBoostingClassifier(verbose=True)\n",
    "param_grid = {\n",
    "    'loss': ['deviance', 'exponential'],\n",
    "    'learning_rate': [.1, .2, .5, 1],\n",
    "    'min_samples_leaf': range(1, 6),\n",
    "    'min_samples_split': range(2, 6),\n",
    "    'max_depth': range(2, 10)\n",
    "}\n",
    "grid_search = GridSearchCV(estimator=gb_clf, param_grid=param_grid, cv=5, n_jobs=-1, scoring='accuracy')\n",
    "grid_search.fit(prep_train_set, train_label)\n",
    "\n",
    "best_gb_clf = grid_search.best_estimator_\n",
    "best_gb_params = grid_search.best_params_\n",
    "best_gb_params"
   ]
  },
  {
   "cell_type": "markdown",
   "metadata": {},
   "source": [
    "## Ensemble Learning"
   ]
  },
  {
   "cell_type": "code",
   "execution_count": 197,
   "metadata": {},
   "outputs": [
    {
     "name": "stdout",
     "output_type": "stream",
     "text": [
      "      Iter       Train Loss   Remaining Time \n",
      "         1           0.8830            0.00s\n",
      "         2           0.8150            0.00s\n",
      "         3           0.7632            0.00s\n",
      "         4           0.7236            0.00s\n",
      "         5           0.6930            0.00s\n",
      "         6           0.6699            0.00s\n",
      "         7           0.6507            0.00s\n",
      "         8           0.6357            0.00s\n",
      "         9           0.6221            0.16s\n",
      "        10           0.6105            0.14s\n",
      "        20           0.5418            0.06s\n",
      "        30           0.5042            0.07s\n",
      "        40           0.4676            0.07s\n",
      "        50           0.4435            0.06s\n",
      "        60           0.4250            0.05s\n",
      "        70           0.4003            0.03s\n",
      "        80           0.3843            0.02s\n",
      "        90           0.3675            0.01s\n",
      "       100           0.3534            0.00s\n"
     ]
    }
   ],
   "source": [
    "from sklearn.ensemble import VotingClassifier\n",
    "\n",
    "\n",
    "voting_clf = VotingClassifier(estimators=[\n",
    "            ('rf_clf', best_rf_clf),\n",
    "            ('ada_clf', best_ada_clf),\n",
    "            ('gb_clf', best_gb_clf)],\n",
    "            voting='soft')\n",
    "voting_clf = voting_clf.fit(prep_train_set, train_label)"
   ]
  },
  {
   "cell_type": "markdown",
   "metadata": {},
   "source": [
    "## Submission"
   ]
  },
  {
   "cell_type": "markdown",
   "metadata": {},
   "source": [
    "### Introduction\n",
    "\n",
    "As part of the competition, Kaggle provides a test CSV file that should be used to generate a CSV file with 2 columns - PassengerId and Survival."
   ]
  },
  {
   "cell_type": "code",
   "execution_count": 192,
   "metadata": {
    "pycharm": {
     "is_executing": false
    }
   },
   "outputs": [
    {
     "data": {
      "text/html": [
       "<div>\n",
       "<style scoped>\n",
       "    .dataframe tbody tr th:only-of-type {\n",
       "        vertical-align: middle;\n",
       "    }\n",
       "\n",
       "    .dataframe tbody tr th {\n",
       "        vertical-align: top;\n",
       "    }\n",
       "\n",
       "    .dataframe thead th {\n",
       "        text-align: right;\n",
       "    }\n",
       "</style>\n",
       "<table border=\"1\" class=\"dataframe\">\n",
       "  <thead>\n",
       "    <tr style=\"text-align: right;\">\n",
       "      <th></th>\n",
       "      <th>PassengerId</th>\n",
       "      <th>Pclass</th>\n",
       "      <th>Name</th>\n",
       "      <th>Sex</th>\n",
       "      <th>Age</th>\n",
       "      <th>SibSp</th>\n",
       "      <th>Parch</th>\n",
       "      <th>Ticket</th>\n",
       "      <th>Fare</th>\n",
       "      <th>Cabin</th>\n",
       "      <th>Embarked</th>\n",
       "    </tr>\n",
       "  </thead>\n",
       "  <tbody>\n",
       "    <tr>\n",
       "      <th>0</th>\n",
       "      <td>892</td>\n",
       "      <td>3</td>\n",
       "      <td>Kelly, Mr. James</td>\n",
       "      <td>male</td>\n",
       "      <td>34.5</td>\n",
       "      <td>0</td>\n",
       "      <td>0</td>\n",
       "      <td>330911</td>\n",
       "      <td>7.8292</td>\n",
       "      <td>NaN</td>\n",
       "      <td>Q</td>\n",
       "    </tr>\n",
       "    <tr>\n",
       "      <th>1</th>\n",
       "      <td>893</td>\n",
       "      <td>3</td>\n",
       "      <td>Wilkes, Mrs. James (Ellen Needs)</td>\n",
       "      <td>female</td>\n",
       "      <td>47.0</td>\n",
       "      <td>1</td>\n",
       "      <td>0</td>\n",
       "      <td>363272</td>\n",
       "      <td>7.0000</td>\n",
       "      <td>NaN</td>\n",
       "      <td>S</td>\n",
       "    </tr>\n",
       "    <tr>\n",
       "      <th>2</th>\n",
       "      <td>894</td>\n",
       "      <td>2</td>\n",
       "      <td>Myles, Mr. Thomas Francis</td>\n",
       "      <td>male</td>\n",
       "      <td>62.0</td>\n",
       "      <td>0</td>\n",
       "      <td>0</td>\n",
       "      <td>240276</td>\n",
       "      <td>9.6875</td>\n",
       "      <td>NaN</td>\n",
       "      <td>Q</td>\n",
       "    </tr>\n",
       "    <tr>\n",
       "      <th>3</th>\n",
       "      <td>895</td>\n",
       "      <td>3</td>\n",
       "      <td>Wirz, Mr. Albert</td>\n",
       "      <td>male</td>\n",
       "      <td>27.0</td>\n",
       "      <td>0</td>\n",
       "      <td>0</td>\n",
       "      <td>315154</td>\n",
       "      <td>8.6625</td>\n",
       "      <td>NaN</td>\n",
       "      <td>S</td>\n",
       "    </tr>\n",
       "    <tr>\n",
       "      <th>4</th>\n",
       "      <td>896</td>\n",
       "      <td>3</td>\n",
       "      <td>Hirvonen, Mrs. Alexander (Helga E Lindqvist)</td>\n",
       "      <td>female</td>\n",
       "      <td>22.0</td>\n",
       "      <td>1</td>\n",
       "      <td>1</td>\n",
       "      <td>3101298</td>\n",
       "      <td>12.2875</td>\n",
       "      <td>NaN</td>\n",
       "      <td>S</td>\n",
       "    </tr>\n",
       "  </tbody>\n",
       "</table>\n",
       "</div>"
      ],
      "text/plain": [
       "   PassengerId  Pclass                                          Name     Sex  \\\n",
       "0          892       3                              Kelly, Mr. James    male   \n",
       "1          893       3              Wilkes, Mrs. James (Ellen Needs)  female   \n",
       "2          894       2                     Myles, Mr. Thomas Francis    male   \n",
       "3          895       3                              Wirz, Mr. Albert    male   \n",
       "4          896       3  Hirvonen, Mrs. Alexander (Helga E Lindqvist)  female   \n",
       "\n",
       "    Age  SibSp  Parch   Ticket     Fare Cabin Embarked  \n",
       "0  34.5      0      0   330911   7.8292   NaN        Q  \n",
       "1  47.0      1      0   363272   7.0000   NaN        S  \n",
       "2  62.0      0      0   240276   9.6875   NaN        Q  \n",
       "3  27.0      0      0   315154   8.6625   NaN        S  \n",
       "4  22.0      1      1  3101298  12.2875   NaN        S  "
      ]
     },
     "execution_count": 192,
     "metadata": {},
     "output_type": "execute_result"
    }
   ],
   "source": [
    "from titanic_classification.load_data import load_data\n",
    "\n",
    "\n",
    "test_set = load_data('./dataset', 'test.csv', keep_na=True)\n",
    "test_set.head()"
   ]
  },
  {
   "cell_type": "markdown",
   "metadata": {},
   "source": [
    "### Preparation"
   ]
  },
  {
   "cell_type": "code",
   "execution_count": 193,
   "metadata": {
    "pycharm": {
     "is_executing": true
    }
   },
   "outputs": [
    {
     "name": "stderr",
     "output_type": "stream",
     "text": [
      "C:\\Users\\User\\.virtualenvs\\ml-dataset-analysis-eKEAK5HG\\lib\\site-packages\\datawig\\calibration.py:92: RuntimeWarning: invalid value encountered in log\n",
      "  return np.log(probas)\n",
      "C:\\Users\\User\\.virtualenvs\\ml-dataset-analysis-eKEAK5HG\\lib\\site-packages\\datawig\\calibration.py:59: RuntimeWarning: invalid value encountered in greater_equal\n",
      "  bin_mask = (top_probas >= bin_lower) & (top_probas < bin_upper)\n",
      "C:\\Users\\User\\.virtualenvs\\ml-dataset-analysis-eKEAK5HG\\lib\\site-packages\\datawig\\calibration.py:59: RuntimeWarning: invalid value encountered in less\n",
      "  bin_mask = (top_probas >= bin_lower) & (top_probas < bin_upper)\n",
      "C:\\Users\\User\\.virtualenvs\\ml-dataset-analysis-eKEAK5HG\\lib\\site-packages\\datawig\\imputer.py:822: FutureWarning: The 'contains' method is deprecated and will be removed in a future version. Use 'key in index' instead of 'index.contains(key)'\n",
      "  if data_frame.columns.contains(imputation_col):\n",
      "C:\\Users\\User\\.virtualenvs\\ml-dataset-analysis-eKEAK5HG\\lib\\site-packages\\sklearn\\metrics\\_classification.py:1268: UndefinedMetricWarning: Precision is ill-defined and being set to 0.0 in labels with no predicted samples. Use `zero_division` parameter to control this behavior.\n",
      "  _warn_prf(average, modifier, msg_start, len(result))\n",
      "C:\\Users\\User\\.virtualenvs\\ml-dataset-analysis-eKEAK5HG\\lib\\site-packages\\datawig\\imputer.py:822: FutureWarning: The 'contains' method is deprecated and will be removed in a future version. Use 'key in index' instead of 'index.contains(key)'\n",
      "  if data_frame.columns.contains(imputation_col):\n",
      "C:\\Users\\User\\.virtualenvs\\ml-dataset-analysis-eKEAK5HG\\lib\\site-packages\\datawig\\imputer.py:829: FutureWarning: The 'contains' method is deprecated and will be removed in a future version. Use 'key in index' instead of 'index.contains(key)'\n",
      "  if data_frame.columns.contains(imputation_proba_col):\n"
     ]
    }
   ],
   "source": [
    "prep_test_set = prep_pipeline.fit_transform(test_set)"
   ]
  },
  {
   "cell_type": "markdown",
   "metadata": {},
   "source": [
    "### Prediction"
   ]
  },
  {
   "cell_type": "code",
   "execution_count": 194,
   "metadata": {
    "pycharm": {
     "is_executing": true
    }
   },
   "outputs": [],
   "source": [
    "test_Y_predicted = voting_clf.predict(prep_test_set)"
   ]
  },
  {
   "cell_type": "markdown",
   "metadata": {},
   "source": [
    "### Submission"
   ]
  },
  {
   "cell_type": "code",
   "execution_count": 195,
   "metadata": {},
   "outputs": [
    {
     "data": {
      "text/html": [
       "<div>\n",
       "<style scoped>\n",
       "    .dataframe tbody tr th:only-of-type {\n",
       "        vertical-align: middle;\n",
       "    }\n",
       "\n",
       "    .dataframe tbody tr th {\n",
       "        vertical-align: top;\n",
       "    }\n",
       "\n",
       "    .dataframe thead th {\n",
       "        text-align: right;\n",
       "    }\n",
       "</style>\n",
       "<table border=\"1\" class=\"dataframe\">\n",
       "  <thead>\n",
       "    <tr style=\"text-align: right;\">\n",
       "      <th></th>\n",
       "      <th>PassengerId</th>\n",
       "      <th>Survived</th>\n",
       "    </tr>\n",
       "  </thead>\n",
       "  <tbody>\n",
       "    <tr>\n",
       "      <th>0</th>\n",
       "      <td>892</td>\n",
       "      <td>0</td>\n",
       "    </tr>\n",
       "    <tr>\n",
       "      <th>1</th>\n",
       "      <td>893</td>\n",
       "      <td>1</td>\n",
       "    </tr>\n",
       "    <tr>\n",
       "      <th>2</th>\n",
       "      <td>894</td>\n",
       "      <td>0</td>\n",
       "    </tr>\n",
       "    <tr>\n",
       "      <th>3</th>\n",
       "      <td>895</td>\n",
       "      <td>0</td>\n",
       "    </tr>\n",
       "    <tr>\n",
       "      <th>4</th>\n",
       "      <td>896</td>\n",
       "      <td>1</td>\n",
       "    </tr>\n",
       "  </tbody>\n",
       "</table>\n",
       "</div>"
      ],
      "text/plain": [
       "   PassengerId  Survived\n",
       "0          892         0\n",
       "1          893         1\n",
       "2          894         0\n",
       "3          895         0\n",
       "4          896         1"
      ]
     },
     "execution_count": 195,
     "metadata": {},
     "output_type": "execute_result"
    }
   ],
   "source": [
    "import pandas as pd\n",
    "\n",
    "\n",
    "predicted_survivors = pd.DataFrame({\n",
    "    'PassengerId': test_set['PassengerId'],\n",
    "    'Survived': test_Y_predicted\n",
    "})\n",
    "\n",
    "predicted_survivors.head()"
   ]
  },
  {
   "cell_type": "markdown",
   "metadata": {},
   "source": [
    "### Saving / Exporting"
   ]
  },
  {
   "cell_type": "code",
   "execution_count": 196,
   "metadata": {},
   "outputs": [],
   "source": [
    "from titanic_classification.export_csv import export_csv\n",
    "\n",
    "\n",
    "export_csv(predicted_survivors, 'submission')"
   ]
  },
  {
   "cell_type": "markdown",
   "metadata": {},
   "source": [
    "The best score I managed to achieve with this ML model was 0.80382 (~80.4% of accuracy) which ranks in the top 9% of all submissions on Kaggle."
   ]
  },
  {
   "cell_type": "code",
   "execution_count": null,
   "metadata": {},
   "outputs": [],
   "source": []
  }
 ],
 "metadata": {
  "kernelspec": {
   "display_name": "python-ml",
   "language": "python",
   "name": "python-ml"
  },
  "language_info": {
   "codemirror_mode": {
    "name": "ipython",
    "version": 3
   },
   "file_extension": ".py",
   "mimetype": "text/x-python",
   "name": "python",
   "nbconvert_exporter": "python",
   "pygments_lexer": "ipython3",
   "version": "3.7.4"
  },
  "pycharm": {
   "stem_cell": {
    "cell_type": "raw",
    "source": [],
    "metadata": {
     "collapsed": false
    }
   }
  }
 },
 "nbformat": 4,
 "nbformat_minor": 4
}
